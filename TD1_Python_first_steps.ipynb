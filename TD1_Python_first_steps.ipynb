{
 "cells": [
  {
   "cell_type": "markdown",
   "metadata": {},
   "source": [
    "# An introduction to computational neuroscience with Python\n",
    "\n",
    "In the practical part of this course, we will use the Python programming language to study some seminal models of computational neuroscience.\n",
    "\n",
    "\n",
    "### Resources\n",
    "\n",
    "An excellent introduction to using Python for exploratory data analysis. It's written for absolute newbies, so you'll learn some very basics about Python and how to use a jupyter notebook, too: \n",
    "http://mbakker7.github.io/exploratory_computing_with_python/\n",
    "\n",
    "Another concise and useful introduction to Python, meant as a preparation for subsequent tutorials on scientific computing: http://bi1x.caltech.edu/2020/handouts/intro_to_python.html\n",
    "\n",
    "Finally, if you want to dive a bit deeper into the programming language Python itself, I can recommand this book (fully available online), which does not require any previous knowledge of informatics: https://jakevdp.github.io/WhirlwindTourOfPython/\n",
    "\n",
    "\n",
    "### How to get Python and the jupyter notebook\n",
    "\n",
    "There are several distributions of Python around, and once you have Python installed, there is generally a way of installing additional packages for that installation of Python. Probably, there is already a \"system\" Python installed with your OS (Mac, Unix, Windows...), as Python is used as a programming language throughout. However, I would strongly recommanded to install a seperate version of Python for your own programming and scientific use, which you can freely configure, screw up, and reinstall as much as you wish. A pretty complete, widely used Python distribution which comes with many pre-installed packages and should work out-of-the-box (but still allows for much flexibility if you wish), is the Anaconda distribution, which you can find here: https://www.anaconda.com/products/individual (you should go for the Python 3.x version). It should be relatively straightforward to install and to use, but in case you'd like to have a look before, here is the documentation: https://docs.anaconda.com/anaconda/\n",
    "\n",
    "Jupyter notebook is basically a browser-based interface to Python, where one can easily combine Python code with written text (like this paragraph here). It allows to organize one's code in practical chunks or \"cells\" of code, which can be executed one at a time. If you have installed the Anaconda distribution, jupyter notebook should be directly available from the Anaconda Navigator (which you can start via the launcher in Windows, or from the Applications folder in macOS), or you can start it from command line with the command ``jupyter notebook``. \n",
    "\n",
    "If you have your own Python version that you want to use with the jupyter notebook, you can install jupyter using ``pip install jupyter``, after which you should be able to start it with ``jupyter notebook`` from the command line. \n",
    "\n",
    "Alternatively, you may also use the *jupyter lab* which comes with the Anaconda distribution and is kind of an integrated interface for jupyter notebooks with additional file and variable explorers, and doesn't rely on a browser.\n",
    "\n",
    "\n",
    "### A quick note on cells in the jupyter notebook\n",
    "\n",
    "Jupyter / IPython notebookes are organized in cells. This text here is just this, simply text, as it is written and appears in a so-called *text cell*. Text in these cells can be formatted with headlines (above), *italic font*, **bold font** etc. \n",
    "\n",
    "Code is written in so called *code cells*, an example is the cell below. Text written in those cells is automatically written in `monospace font` and as such recognizable as code; furthermore, automatic syntax-highlighting with different colors for different code elements (numbers, function definitions, control statements, ...) makes it easier to read and structure the code. The code in the cells of the code-containing type can be executed by pressing ``Shift + Enter``. (Just pressing ``Enter`` inserts a line break.)\n",
    "\n",
    "You can edit any cell (text or code) by double-clicking on it. Cells can be added and modified using the toolbar above. When you create a new cell (the plus-sign button), it is a code-cell by default, but you can modify its type using the rolldown choice menu (for a text cell, choose *Markdown* which is a kind of text formatting \"language\").\n"
   ]
  },
  {
   "cell_type": "markdown",
   "metadata": {},
   "source": [
    "## Before we start, please check whether you can execute the following code:"
   ]
  },
  {
   "cell_type": "code",
   "execution_count": 2,
   "metadata": {
    "scrolled": true
   },
   "outputs": [
    {
     "data": {
      "text/plain": [
       "Text(0, 0.5, 'x(t)')"
      ]
     },
     "execution_count": 2,
     "metadata": {},
     "output_type": "execute_result"
    },
    {
     "data": {
      "image/png": "[encoded data removed]",
      "text/plain": [
       "<Figure size 432x288 with 1 Axes>"
      ]
     },
     "metadata": {
      "needs_background": "light"
     },
     "output_type": "display_data"
    }
   ],
   "source": [
    "# this is a code cell\n",
    "\n",
    "# these are a couple of imports that we will use in the course\n",
    "import numpy as np\n",
    "import scipy\n",
    "import matplotlib.pyplot as plt\n",
    "%matplotlib inline\n",
    "\n",
    "# and this is an example plot to check whether the graphics output works\n",
    "freq = 1.\n",
    "t = np.arange(0,2,0.01)\n",
    "x_of_t = np.sin(2*np.pi*freq*t)\n",
    "\n",
    "fig, ax = plt.subplots()\n",
    "ax.plot(t, x_of_t, label='Hello, how do you do?')\n",
    "ax.legend()\n",
    "ax.set_xlabel('t')\n",
    "ax.set_ylabel('x(t)')"
   ]
  },
  {
   "cell_type": "markdown",
   "metadata": {},
   "source": [
    "**If upon executing the above cell you get a plot with a sine, you're all set for this tutorial!** If it doesn't work, you might want to try using a different browser, or in case that still doesn't work, a simpler way to use graphics: try again by replacing ``%matplotlib notebook`` with ``%matplotlib inline``."
   ]
  },
  {
   "cell_type": "markdown",
   "metadata": {},
   "source": [
    "# TD1: Python first steps"
   ]
  },
  {
   "cell_type": "markdown",
   "metadata": {},
   "source": [
    "## The very basics"
   ]
  },
  {
   "cell_type": "code",
   "execution_count": null,
   "metadata": {},
   "outputs": [],
   "source": [
    "# This is a comment (not executed)\n",
    "\n",
    "a = 0  # This is a variable\n",
    "b = 1  # This is another variable\n",
    "\n",
    "# we can add variables\n",
    "# we can print variables\n",
    "\n",
    "# We can assign new values to variables that we used before\n",
    "\n",
    "# This is a string \n"
   ]
  },
  {
   "cell_type": "code",
   "execution_count": null,
   "metadata": {},
   "outputs": [],
   "source": [
    "# We can keep more items in a list\n",
    "\n",
    "    \n",
    "# Individual items can be accessed with [] brackets\n",
    "# NOTE: for N elements in a list, the indices go from 0 to N-1\n",
    "\n",
    "# A short form for the last element of a list is indexed by -1\n"
   ]
  },
  {
   "cell_type": "code",
   "execution_count": null,
   "metadata": {},
   "outputs": [],
   "source": [
    "# We can also join lists, and append items\n"
   ]
  },
  {
   "cell_type": "code",
   "execution_count": null,
   "metadata": {},
   "outputs": [],
   "source": [
    "# BUT: Mathematical manipulations not allowed...\n",
    "\n",
    "\n",
    "# NOTE: c = 3*a is ok! What will c look like?"
   ]
  },
  {
   "cell_type": "code",
   "execution_count": null,
   "metadata": {},
   "outputs": [],
   "source": [
    "# Control flow: loops & conditions"
   ]
  },
  {
   "cell_type": "code",
   "execution_count": null,
   "metadata": {},
   "outputs": [],
   "source": [
    "# Defining our own functions"
   ]
  },
  {
   "cell_type": "code",
   "execution_count": null,
   "metadata": {},
   "outputs": [],
   "source": [
    "# Import modules (functions, ...) that we want to use"
   ]
  },
  {
   "cell_type": "markdown",
   "metadata": {},
   "source": [
    "A short comparison of computation times between lists and arrays shows the advantage of the latter in addition to convenience: For lists, we have to do any computation element-wise, whilethe numpy package allows to do a computation on the whole array at once!\n",
    "\n",
    "Here, `%%timeit` at the beginning of a cell automatically repeats execution of the cell several times and determines the average time needed.\n"
   ]
  },
  {
   "cell_type": "code",
   "execution_count": null,
   "metadata": {},
   "outputs": [],
   "source": [
    "%%timeit\n",
    "\n",
    "n = 10000\n",
    "\n",
    "result = [] # empty list\n",
    "\n",
    "# use a loop over all numbers from 1 to n\n",
    "for i in range(1, n+1):\n",
    "    result.append(i**0.5)"
   ]
  },
  {
   "cell_type": "code",
   "execution_count": 4,
   "metadata": {},
   "outputs": [],
   "source": [
    "a = list(range(10))"
   ]
  },
  {
   "cell_type": "code",
   "execution_count": 5,
   "metadata": {},
   "outputs": [
    {
     "name": "stdout",
     "output_type": "stream",
     "text": [
      "[1, 3, 5, 7, 9]\n"
     ]
    }
   ],
   "source": [
    "print(a[1::2])"
   ]
  },
  {
   "cell_type": "markdown",
   "metadata": {},
   "source": [
    "## The power of numpy arrays"
   ]
  },
  {
   "cell_type": "code",
   "execution_count": null,
   "metadata": {},
   "outputs": [],
   "source": [
    "# import the numpy module\n",
    "import numpy as np"
   ]
  },
  {
   "cell_type": "code",
   "execution_count": null,
   "metadata": {},
   "outputs": [],
   "source": [
    "# array from list\n",
    "# array from scratch\n",
    "# linspace..."
   ]
  },
  {
   "cell_type": "code",
   "execution_count": null,
   "metadata": {},
   "outputs": [],
   "source": [
    "# array indexing"
   ]
  },
  {
   "cell_type": "code",
   "execution_count": null,
   "metadata": {},
   "outputs": [],
   "source": [
    "# mathematical operations:\n",
    "# +, -, *, /, //, **\n",
    "# exp, sin, cos, sqrt\n"
   ]
  },
  {
   "cell_type": "code",
   "execution_count": null,
   "metadata": {},
   "outputs": [],
   "source": [
    "# matrices and multi-dimensional indexing\n"
   ]
  },
  {
   "cell_type": "code",
   "execution_count": null,
   "metadata": {},
   "outputs": [],
   "source": [
    "# Look up documentation with a question mark\n",
    "rand?"
   ]
  },
  {
   "cell_type": "code",
   "execution_count": null,
   "metadata": {},
   "outputs": [],
   "source": [
    "# mean, std, min, max, argmin, argmax"
   ]
  },
  {
   "cell_type": "markdown",
   "metadata": {},
   "source": [
    "## Data visualisation with matplotlib"
   ]
  },
  {
   "cell_type": "code",
   "execution_count": null,
   "metadata": {},
   "outputs": [],
   "source": [
    "# A simple line plot"
   ]
  },
  {
   "cell_type": "code",
   "execution_count": null,
   "metadata": {},
   "outputs": [],
   "source": [
    "# Combining multiple graphs: linestyles and colors, and legends"
   ]
  },
  {
   "cell_type": "code",
   "execution_count": null,
   "metadata": {},
   "outputs": [],
   "source": [
    "# Plot a histogram"
   ]
  },
  {
   "cell_type": "code",
   "execution_count": null,
   "metadata": {},
   "outputs": [],
   "source": []
  }
 ],
 "metadata": {
  "kernelspec": {
   "display_name": "Python 3",
   "language": "python",
   "name": "python3"
  },
  "language_info": {
   "codemirror_mode": {
    "name": "ipython",
    "version": 3
   },
   "file_extension": ".py",
   "mimetype": "text/x-python",
   "name": "python",
   "nbconvert_exporter": "python",
   "pygments_lexer": "ipython3",
   "version": "3.7.3"
  }
 },
 "nbformat": 4,
 "nbformat_minor": 2
}
