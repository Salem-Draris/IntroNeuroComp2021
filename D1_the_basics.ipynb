{
 "cells": [
  {
   "cell_type": "markdown",
   "metadata": {},
   "source": [
    "# Devoir 1\n",
    "\n",
    "Dans ce notebook, je voudrais que vous vous familiarisez d'avantage avec Python, et puis introduire quelques fonctionnalités très basiques des bibliothèques `numpy` et `matplotlib`."
   ]
  },
  {
   "cell_type": "markdown",
   "metadata": {},
   "source": [
    "### 1) Quelques bases en Python"
   ]
  },
  {
   "cell_type": "code",
   "execution_count": null,
   "metadata": {},
   "outputs": [],
   "source": [
    "# 1.1) create a list containing the values from 2, 4, ..., 10\n",
    "# and print all five values\n"
   ]
  },
  {
   "cell_type": "code",
   "execution_count": null,
   "metadata": {},
   "outputs": [],
   "source": [
    "# 1.2) take the square of each element of the list\n",
    "# and print the result (i.e., 4, 16, ..., 100)\n"
   ]
  },
  {
   "cell_type": "code",
   "execution_count": null,
   "metadata": {},
   "outputs": [],
   "source": [
    "# 1.3) define a function that takes a list as argument and \n",
    "# returns a list with each element squared\n",
    "\n",
    "# reminder: the general syntax for defining a function is\n",
    "# the following  (in this example, the function returns \n",
    "# its argument without any modification):\n",
    "def my_function(arg):\n",
    "    # do something with arg\n",
    "    # ...\n",
    "    return arg\n",
    "\n",
    "# your code here"
   ]
  },
  {
   "cell_type": "code",
   "execution_count": null,
   "metadata": {},
   "outputs": [],
   "source": [
    "# 1.4) use your function to compupte the square of \n",
    "# the values 1, 2, ..., 5 and print the result\n"
   ]
  },
  {
   "cell_type": "markdown",
   "metadata": {},
   "source": [
    "### 2) La bibliothèque  `numpy`\n",
    "\n",
    "Quand nous importons une bibliothèque, comme par ex. `numpy`, des fonctions fournies par cette bibliothèque deviennent accessible par la syntax `module.function`, c'est-à-dire le nom de la fonction (ou d'un autre objet fourni par la bibliothèque) précédé par le nom du module, suivi d'un point (`.`). \n",
    "\n",
    "D'habitude, nous donnons un nom plus court à la bibliothèque `numpy` quand nous l'importons, puisque nous allons nous en servir beaucoup:"
   ]
  },
  {
   "cell_type": "code",
   "execution_count": null,
   "metadata": {},
   "outputs": [],
   "source": [
    "# import the library\n",
    "import numpy as np\n",
    "\n",
    "# the numpy module contains not only methods\n",
    "# (functions) to create and manipulate arrays\n",
    "# of values, but e.g. also the number pi:\n",
    "print(np.pi)"
   ]
  },
  {
   "cell_type": "markdown",
   "metadata": {},
   "source": [
    "Comme nous avons vu dans le TD, `numpy` introduit la possibilité de créer des \"arrays\", qui sont des listes de valeurs numériques a priori qui permettent des opérations que des listes \"standards\" de Python ne permettent pas. \n",
    "\n",
    "Avec `numpy`, il y beaucoup de façons de créer une liste de valeurs, aujourd'hui on en connaîtra deux : \n",
    "1) On peut transformer une liste standard en array en utilisant la fonction `np.array`."
   ]
  },
  {
   "cell_type": "code",
   "execution_count": null,
   "metadata": {},
   "outputs": [],
   "source": [
    "# 2.1) Create a numpy array of a list containing \n",
    "# the result of question 1.4 (a list with the \n",
    "# values 1, 4, ..., 25) using np.array, and print \n",
    "# the array\n",
    "\n"
   ]
  },
  {
   "cell_type": "markdown",
   "metadata": {},
   "source": [
    "2) On peut créer un array des valeurs avec la function `np.arange`. Lisez la documentation de la fonction pour essayer de comprendre ce qu'elle permet de faire et comment:"
   ]
  },
  {
   "cell_type": "code",
   "execution_count": null,
   "metadata": {},
   "outputs": [],
   "source": [
    "np.arange?"
   ]
  },
  {
   "cell_type": "code",
   "execution_count": null,
   "metadata": {},
   "outputs": [],
   "source": [
    "# 2.2) Create an array with all integer values starting \n",
    "# at 0 until (including!) 1000 using np.arange and store\n",
    "# the array in a variable.\n",
    "\n"
   ]
  },
  {
   "cell_type": "markdown",
   "metadata": {},
   "source": [
    "Maintenant, si on a des arrays aussi large, comment accèder seulement certains élements ? On ne peut sûrement pas afficher les 1001 entrées juste pour voir si l'opération a réussi ? C'est là que peut se montrer toute la puissance du \"array indexing\" de `numpy` arrays ! Il y a là aussi différentes manières de l'utiliser, mais les plus simples, pour des arrays à \"une dimension\" (comme un vecteur donc) sont exactement les mêmes que pour les listes standard de Python. L'indexation passe par des parenthèses angulaires, avec la syntaxe suivante : `my_array[start:stop:step]`, ou chacun des index fournis (`start`, `stop` ou `step`) peut être omis."
   ]
  },
  {
   "cell_type": "code",
   "execution_count": null,
   "metadata": {},
   "outputs": [],
   "source": [
    "# 2.3) Print the first three values of the array created in\n",
    "# question 2.2. Print the last four values. Print all values \n",
    "# that are multiples of 100, i.e., 100, 200, ..., 1000.\n",
    "\n"
   ]
  },
  {
   "cell_type": "code",
   "execution_count": null,
   "metadata": {},
   "outputs": [],
   "source": [
    "# 2.4) Use your function defined in 1.4 to compute\n",
    "# the squares of all integers from 1 to 100000 using \n",
    "# np.arange. Compare with the mathematical capacity\n",
    "# of numpy by directly taking the square of the \n",
    "# numpy array with all integers from 1 to 100000,\n",
    "# according to \n",
    "#result = my_array**2\n",
    "\n"
   ]
  },
  {
   "cell_type": "markdown",
   "metadata": {},
   "source": [
    "### 3) Visualisation avec `matplotlib`\n",
    "\n",
    "Pour \"plotter\" des graphes, on utilise la bibliothèque `matplotlib`. Je montre un exemple pour imprimer une simple ligne droite:"
   ]
  },
  {
   "cell_type": "code",
   "execution_count": null,
   "metadata": {},
   "outputs": [],
   "source": [
    "# importing the library/module\n",
    "import matplotlib.pyplot as plt\n",
    "\n",
    "# configuring the notebook to correctly embed plots\n",
    "%matplotlib inline"
   ]
  },
  {
   "cell_type": "code",
   "execution_count": null,
   "metadata": {},
   "outputs": [],
   "source": [
    "# define values to plot\n",
    "x = np.arange(5)  # use np.arange to create an array of integers\n",
    "y = [1]*5         # use list multiplication to create a list of ones\n",
    "\n",
    "# The following command creates a figure and an axes.\n",
    "# We use the plot function defined for an axes things in the axes.\n",
    "fig, ax = plt.subplots()\n",
    "ax.plot(x, y)"
   ]
  },
  {
   "cell_type": "code",
   "execution_count": null,
   "metadata": {},
   "outputs": [],
   "source": [
    "# 3.1) Plot the squares of all ints from 1 to 100000\n",
    "# against the ints from 1 to 100000 (i.e., visualise\n",
    "# the result of your calculation 2.4 with a plot).\n"
   ]
  },
  {
   "cell_type": "code",
   "execution_count": null,
   "metadata": {},
   "outputs": [],
   "source": []
  }
 ],
 "metadata": {
  "kernelspec": {
   "display_name": "Python 3",
   "language": "python",
   "name": "python3"
  },
  "language_info": {
   "codemirror_mode": {
    "name": "ipython",
    "version": 3
   },
   "file_extension": ".py",
   "mimetype": "text/x-python",
   "name": "python",
   "nbconvert_exporter": "python",
   "pygments_lexer": "ipython3",
   "version": "3.7.3"
  }
 },
 "nbformat": 4,
 "nbformat_minor": 2
}
